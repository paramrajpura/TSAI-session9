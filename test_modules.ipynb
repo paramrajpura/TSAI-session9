{
 "cells": [
  {
   "cell_type": "markdown",
   "metadata": {},
   "source": [
    "# Test module : Objective1"
   ]
  },
  {
   "cell_type": "code",
   "execution_count": 1,
   "metadata": {},
   "outputs": [],
   "source": [
    "from Objective1 import Polygon\n",
    "\n",
    "triangle = Polygon(num_edges=3 , cir_radius=5)"
   ]
  },
  {
   "cell_type": "code",
   "execution_count": 2,
   "metadata": {},
   "outputs": [
    {
     "data": {
      "text/plain": [
       "'Polygon with 3 edges and circum-radius = 5'"
      ]
     },
     "execution_count": 2,
     "metadata": {},
     "output_type": "execute_result"
    }
   ],
   "source": [
    "repr(triangle)"
   ]
  },
  {
   "cell_type": "code",
   "execution_count": 3,
   "metadata": {},
   "outputs": [],
   "source": [
    "another_triangle = Polygon(num_edges=3 , cir_radius=5)"
   ]
  },
  {
   "cell_type": "code",
   "execution_count": 4,
   "metadata": {},
   "outputs": [
    {
     "name": "stdout",
     "output_type": "stream",
     "text": [
      "Both are triangles with same edges and radius\n"
     ]
    }
   ],
   "source": [
    "if triangle == another_triangle:\n",
    "    print(\"Both are triangles with same edges and radius\")"
   ]
  },
  {
   "cell_type": "code",
   "execution_count": 5,
   "metadata": {},
   "outputs": [
    {
     "name": "stdout",
     "output_type": "stream",
     "text": [
      "Triangle and square are not equal polygons\n"
     ]
    }
   ],
   "source": [
    "square = Polygon(num_edges=4 , cir_radius=5)\n",
    "if triangle != square:\n",
    "    print(\"Triangle and square are not equal polygons\")"
   ]
  },
  {
   "cell_type": "code",
   "execution_count": 6,
   "metadata": {},
   "outputs": [
    {
     "name": "stdout",
     "output_type": "stream",
     "text": [
      "Square has more vertices than triangle\n"
     ]
    }
   ],
   "source": [
    "if square > triangle:\n",
    "    print(\"Square has more vertices than triangle\")"
   ]
  },
  {
   "cell_type": "code",
   "execution_count": 7,
   "metadata": {},
   "outputs": [
    {
     "name": "stdout",
     "output_type": "stream",
     "text": [
      "Triangles have same number of vertices\n"
     ]
    }
   ],
   "source": [
    "if triangle > another_triangle:\n",
    "    print(\"Something is wrong in greater than check\")\n",
    "else:\n",
    "    print(\"Triangles have same number of vertices\")"
   ]
  },
  {
   "cell_type": "markdown",
   "metadata": {},
   "source": [
    "# Test module : Objective2"
   ]
  },
  {
   "cell_type": "code",
   "execution_count": 8,
   "metadata": {},
   "outputs": [],
   "source": [
    "from Objective2 import Polygonseq\n",
    "\n",
    "poly_until_hex = Polygonseq(max_num_edges=6, cir_rad=3)"
   ]
  },
  {
   "cell_type": "code",
   "execution_count": 9,
   "metadata": {},
   "outputs": [
    {
     "data": {
      "text/plain": [
       "'Polygon sequence with num_edges = [3, 4, 5, 6] and circum-radius = 3'"
      ]
     },
     "execution_count": 9,
     "metadata": {},
     "output_type": "execute_result"
    }
   ],
   "source": [
    "repr(poly_until_hex)"
   ]
  },
  {
   "cell_type": "code",
   "execution_count": 10,
   "metadata": {},
   "outputs": [
    {
     "data": {
      "text/plain": [
       "4"
      ]
     },
     "execution_count": 10,
     "metadata": {},
     "output_type": "execute_result"
    }
   ],
   "source": [
    "len(poly_until_hex)"
   ]
  },
  {
   "cell_type": "code",
   "execution_count": 11,
   "metadata": {},
   "outputs": [
    {
     "data": {
      "text/plain": [
       "Polygon with 3 edges and circum-radius = 3"
      ]
     },
     "execution_count": 11,
     "metadata": {},
     "output_type": "execute_result"
    }
   ],
   "source": [
    "poly_until_hex[0]"
   ]
  },
  {
   "cell_type": "code",
   "execution_count": 12,
   "metadata": {},
   "outputs": [
    {
     "name": "stdout",
     "output_type": "stream",
     "text": [
      "requesting [0:2:None]\n"
     ]
    },
    {
     "data": {
      "text/plain": [
       "[Polygon with 3 edges and circum-radius = 3,\n",
       " Polygon with 4 edges and circum-radius = 3]"
      ]
     },
     "execution_count": 12,
     "metadata": {},
     "output_type": "execute_result"
    }
   ],
   "source": [
    "poly_until_hex[0:2]"
   ]
  },
  {
   "cell_type": "code",
   "execution_count": 13,
   "metadata": {},
   "outputs": [
    {
     "name": "stdout",
     "output_type": "stream",
     "text": [
      "requesting [None:None:None]\n"
     ]
    },
    {
     "data": {
      "text/plain": [
       "[Polygon with 3 edges and circum-radius = 3,\n",
       " Polygon with 4 edges and circum-radius = 3,\n",
       " Polygon with 5 edges and circum-radius = 3,\n",
       " Polygon with 6 edges and circum-radius = 3]"
      ]
     },
     "execution_count": 13,
     "metadata": {},
     "output_type": "execute_result"
    }
   ],
   "source": [
    "poly_until_hex[:]"
   ]
  },
  {
   "cell_type": "code",
   "execution_count": 14,
   "metadata": {},
   "outputs": [
    {
     "name": "stdout",
     "output_type": "stream",
     "text": [
      "requesting [-2:None:None]\n"
     ]
    },
    {
     "data": {
      "text/plain": [
       "[Polygon with 5 edges and circum-radius = 3,\n",
       " Polygon with 6 edges and circum-radius = 3]"
      ]
     },
     "execution_count": 14,
     "metadata": {},
     "output_type": "execute_result"
    }
   ],
   "source": [
    "poly_until_hex[-2:]"
   ]
  },
  {
   "cell_type": "code",
   "execution_count": null,
   "metadata": {},
   "outputs": [],
   "source": []
  }
 ],
 "metadata": {
  "kernelspec": {
   "display_name": "Python 3",
   "language": "python",
   "name": "python3"
  },
  "language_info": {
   "codemirror_mode": {
    "name": "ipython",
    "version": 3
   },
   "file_extension": ".py",
   "mimetype": "text/x-python",
   "name": "python",
   "nbconvert_exporter": "python",
   "pygments_lexer": "ipython3",
   "version": "3.8.5"
  }
 },
 "nbformat": 4,
 "nbformat_minor": 4
}
